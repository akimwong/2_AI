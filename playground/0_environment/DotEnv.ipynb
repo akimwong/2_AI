{
 "cells": [
  {
   "cell_type": "markdown",
   "id": "2c70617b-4ff6-4c29-bcb6-097f057291f0",
   "metadata": {},
   "source": [
    "## Python Tutorial: Securely Manage Passwords and API Keys with DotEnv\n",
    "https://www.youtube.com/watch?v=PYuTzLswn_Y"
   ]
  },
  {
   "cell_type": "markdown",
   "id": "cc99a626-04f1-46eb-acb0-77d112e4d9ae",
   "metadata": {},
   "source": [
    "windows: pip install python-dotenv"
   ]
  },
  {
   "cell_type": "code",
   "execution_count": 1,
   "id": "2a1ce656-0b35-4433-ba1f-6f0f210eabce",
   "metadata": {},
   "outputs": [],
   "source": [
    "import os\n",
    "from dotenv import load_dotenv"
   ]
  },
  {
   "cell_type": "code",
   "execution_count": 2,
   "id": "66bd4bf5-dbca-4f78-90bf-f59d411159f9",
   "metadata": {},
   "outputs": [
    {
     "data": {
      "text/plain": [
       "True"
      ]
     },
     "execution_count": 2,
     "metadata": {},
     "output_type": "execute_result"
    }
   ],
   "source": [
    "load_dotenv()"
   ]
  },
  {
   "cell_type": "code",
   "execution_count": 3,
   "id": "a0e94fea-3230-4467-a7c6-55c7c5aa0934",
   "metadata": {},
   "outputs": [
    {
     "name": "stdout",
     "output_type": "stream",
     "text": [
      "ABC123\n"
     ]
    }
   ],
   "source": [
    "API_KEY_1 = os.getenv(\"API_KEY_1\")\n",
    "print(API_KEY_1)"
   ]
  },
  {
   "cell_type": "code",
   "execution_count": 7,
   "id": "6c4fd173-9260-4df2-9a56-9b4bf4f91dbd",
   "metadata": {},
   "outputs": [
    {
     "name": "stdout",
     "output_type": "stream",
     "text": [
      "Carlos Wong\n"
     ]
    }
   ],
   "source": [
    "USER_1 = os.getenv(\"USERNAME1\")  # TRY TO NOT USE \"USER\" TO NOT OVERRIDE SYSTEM VARIABLE\n",
    "print(USER_1)"
   ]
  },
  {
   "cell_type": "code",
   "execution_count": 9,
   "id": "69512620-4299-4d78-a701-6f12e9842c8f",
   "metadata": {},
   "outputs": [
    {
     "name": "stdout",
     "output_type": "stream",
     "text": [
      "123 Fake St\n",
      "My Town MW\n"
     ]
    }
   ],
   "source": [
    "ADDRESS1 = os.getenv(\"ADDRESS1\")\n",
    "print(ADDRESS1)"
   ]
  },
  {
   "cell_type": "code",
   "execution_count": 10,
   "id": "ecc6ee87-50ab-42be-b875-16cfbd0f988e",
   "metadata": {},
   "outputs": [
    {
     "name": "stdout",
     "output_type": "stream",
     "text": [
      "456 Fake St\n",
      "My Town MW\n"
     ]
    }
   ],
   "source": [
    "ADDRESS2 = os.getenv(\"ADDRESS2\")\n",
    "print(ADDRESS2)"
   ]
  },
  {
   "cell_type": "code",
   "execution_count": 11,
   "id": "3da51125-7587-4ccd-b7ea-d102283bd135",
   "metadata": {},
   "outputs": [
    {
     "name": "stdout",
     "output_type": "stream",
     "text": [
      "CarlosWong@gmail.com\n"
     ]
    }
   ],
   "source": [
    "EMAIL = os.getenv(\"EMAIL\")\n",
    "print(EMAIL)"
   ]
  },
  {
   "cell_type": "code",
   "execution_count": null,
   "id": "b85182a1-07d4-49f0-9253-27dd0615c37d",
   "metadata": {},
   "outputs": [],
   "source": []
  }
 ],
 "metadata": {
  "kernelspec": {
   "display_name": "Python 3 (ipykernel)",
   "language": "python",
   "name": "python3"
  },
  "language_info": {
   "codemirror_mode": {
    "name": "ipython",
    "version": 3
   },
   "file_extension": ".py",
   "mimetype": "text/x-python",
   "name": "python",
   "nbconvert_exporter": "python",
   "pygments_lexer": "ipython3",
   "version": "3.12.4"
  }
 },
 "nbformat": 4,
 "nbformat_minor": 5
}
